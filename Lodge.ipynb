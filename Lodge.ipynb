{
 "cells": [
  {
   "cell_type": "markdown",
   "metadata": {},
   "source": [
    "# Final Project Pelatihan Data Science\n",
    "\n",
    "### Topik : \n",
    "Clustering Penginapan di Jawa Barat Berdasaarkan Fasilitas dan Bintang Hotelnya untuk 2 Orang dan 1 Malam Pada Tanggal 9 April 2019 – 10 April 2019\n",
    "\n",
    "## Sumber : \n",
    "pegipegi.com\n",
    "\n",
    "#### Muhammad Hanif\n",
    "#### 140810170033"
   ]
  },
  {
   "cell_type": "markdown",
   "metadata": {},
   "source": [
    "# Import Library"
   ]
  },
  {
   "cell_type": "code",
   "execution_count": null,
   "metadata": {},
   "outputs": [],
   "source": [
    "#import library\n",
    "import csv\n",
    "from requests import get\n",
    "from bs4 import BeautifulSoup\n",
    "import pandas as pd"
   ]
  },
  {
   "cell_type": "markdown",
   "metadata": {},
   "source": [
    "# Membuat List\n",
    "membuat list untuk menampung fitur2 yang diambil dan melakukan loop untuk mendapatkan url yg akan di scrap"
   ]
  },
  {
   "cell_type": "code",
   "execution_count": 51,
   "metadata": {},
   "outputs": [],
   "source": [
    "#buat list untuk menampung tiap fitur yg akan diambil\n",
    "nama =[]\n",
    "bintang = []\n",
    "harga = []\n",
    "daerah = []\n",
    "kota = []\n",
    "rating = []\n",
    "overall = []\n",
    "responden = []\n",
    "wifi = []\n",
    "spa = []\n",
    "restaurant = []\n",
    "kolam_renang = []\n",
    "parkir = []\n",
    "bar = []\n",
    "layanan = []\n",
    "deskripsi = []\n",
    "\n",
    "#list untuk menampung url\n",
    "link = []\n",
    "\n",
    "#jumlah halaman tiap kota pada pegipegi.com\n",
    "max_page_bdg = 26 #bandung\n",
    "max_page_bgr = 6 #bogor\n",
    "max_page_cbr = 3 #cirebon\n",
    "max_page_bks = 3 #bekasi\n",
    "max_page_dpk = 1 #depok\n",
    "max_page_pdr = 2 #pangandaran\n",
    "max_page_sbm = 2 #sukabumi\n",
    "max_page_grt = 2 #garut\n",
    "max_page_smd = 1 #sumedang\n",
    "max_page_sbg = 1 #subang\n",
    "max_page_tsk = 1 #tasikmalaya\n",
    "max_page_pwk = 1 #purwakarta\n",
    "max_page_ind = 1 #indramayu\n",
    "max_page_mjk = 1 #majalengka\n",
    "max_page_kun = 1 #kuningan\n",
    "max_page_kar = 1 #karawang\n",
    "\n",
    "#digit maksimal untuk halaman html tiap kota\n",
    "max_page_dig = 2\n",
    "\n",
    "#looping untuk mengambil dan memasukan url ke list link\n",
    "for i in range(1, max_page_bdg + 1):\n",
    "    page_num = (max_page_dig - len(str(i))) * \"\" + str(i)\n",
    "    url = \"https://www.pegipegi.com/hotel/bandung/\"+ page_num +\".html?stayYear=2019&stayMonth=4&stayDay=10&stayCount=1&adultNum=2&autocomplete=Bandung&roomCount=1\"\n",
    "    response = get(url)\n",
    "    link.append(url)\n",
    "    \n",
    "for i in range(1, max_page_bgr + 1):\n",
    "    page_num = (max_page_dig - len(str(i))) * \"\" + str(i)\n",
    "    url = \"https://www.pegipegi.com/hotel/bogor/\"+ page_num +\".html?stayYear=2019&stayMonth=4&stayDay=09&stayCount=1&adultNum=2&autocomplete=bogor&roomCount=1\"\n",
    "    response = get(url)\n",
    "    link.append(url)\n",
    "    \n",
    "for i in range(1, max_page_cbr + 1):\n",
    "    page_num = (max_page_dig - len(str(i))) * \"\" + str(i)\n",
    "    url = \"https://www.pegipegi.com/hotel/cirebon/\"+ page_num +\".html?stayYear=2019&stayMonth=4&stayDay=09&stayCount=1&adultNum=2&autocomplete=cirebon&roomCount=1\"\n",
    "    response = get(url)\n",
    "    link.append(url)\n",
    "    \n",
    "for i in range(1, max_page_bks + 1):\n",
    "    page_num = (max_page_dig - len(str(i))) * \"\" + str(i)\n",
    "    url = \"https://www.pegipegi.com/hotel/bekasi/\"+ page_num +\".html?stayYear=2019&stayMonth=4&stayDay=09&stayCount=1&adultNum=2&autocomplete=bekasi&roomCount=1\"\n",
    "    response = get(url)\n",
    "    link.append(url)\n",
    "    \n",
    "for i in range(1, max_page_dpk + 1):\n",
    "    page_num = (max_page_dig - len(str(i))) * \"\" + str(i)\n",
    "    url = \"https://www.pegipegi.com/hotel/depok/\"+ page_num +\".html?stayYear=2019&stayMonth=4&stayDay=09&stayCount=1&adultNum=2&autocomplete=depok&roomCount=1\"\n",
    "    response = get(url)\n",
    "    link.append(url)\n",
    "\n",
    "for i in range(1, max_page_pdr + 1):\n",
    "    page_num = (max_page_dig - len(str(i))) * \"\" + str(i)\n",
    "    url = \"https://www.pegipegi.com/hotel/pangandaran/\"+ page_num +\".html?stayYear=2019&stayMonth=4&stayDay=09&stayCount=1&adultNum=2&autocomplete=pangandaran&roomCount=1\"\n",
    "    response = get(url)\n",
    "    link.append(url)\n",
    "\n",
    "for i in range(1, max_page_sbm + 1):\n",
    "    page_num = (max_page_dig - len(str(i))) * \"\" + str(i)\n",
    "    url = \"https://www.pegipegi.com/hotel/sukabumi/\"+ page_num +\".html?stayYear=2019&stayMonth=4&stayDay=09&stayCount=1&adultNum=2&autocomplete=sukabumi&roomCount=1\"\n",
    "    response = get(url)\n",
    "    link.append(url)\n",
    "\n",
    "for i in range(1, max_page_grt + 1):\n",
    "    page_num = (max_page_dig - len(str(i))) * \"\" + str(i)\n",
    "    url = \"https://www.pegipegi.com/hotel/garut/\"+ page_num +\".html?stayYear=2019&stayMonth=4&stayDay=09&stayCount=1&adultNum=2&autocomplete=garut&roomCount=1\"\n",
    "    response = get(url)\n",
    "    link.append(url)\n",
    "    \n",
    "for i in range(1, max_page_smd + 1):\n",
    "    page_num = (max_page_dig - len(str(i))) * \"\" + str(i)\n",
    "    url = \"https://www.pegipegi.com/hotel/sumedang/\"+ page_num +\".html?stayYear=2019&stayMonth=4&stayDay=09&stayCount=1&adultNum=2&autocomplete=sumedang&roomCount=1\"\n",
    "    response = get(url)\n",
    "    link.append(url)\n",
    "    \n",
    "for i in range(1, max_page_sbg + 1):\n",
    "    page_num = (max_page_dig - len(str(i))) * \"\" + str(i)\n",
    "    url = \"https://www.pegipegi.com/hotel/subang/\"+ page_num +\".html?stayYear=2019&stayMonth=4&stayDay=09&stayCount=1&adultNum=2&autocomplete=subang&roomCount=1\"\n",
    "    response = get(url)\n",
    "    link.append(url)\n",
    "    \n",
    "for i in range(1, max_page_tsk + 1):\n",
    "    page_num = (max_page_dig - len(str(i))) * \"\" + str(i)\n",
    "    url = \"https://www.pegipegi.com/hotel/tasikmalaya/\"+ page_num +\".html?stayYear=2019&stayMonth=4&stayDay=09&stayCount=1&adultNum=2&autocomplete=tasikmalaya&roomCount=1\"\n",
    "    response = get(url)\n",
    "    link.append(url)\n",
    "    \n",
    "for i in range(1, max_page_pwk + 1):\n",
    "    page_num = (max_page_dig - len(str(i))) * \"\" + str(i)\n",
    "    url = \"https://www.pegipegi.com/hotel/purwakarta/\"+ page_num +\".html?stayYear=2019&stayMonth=4&stayDay=09&stayCount=1&adultNum=2&autocomplete=purwakarta&roomCount=1\"\n",
    "    response = get(url)\n",
    "    link.append(url)\n",
    "    \n",
    "for i in range(1, max_page_ind + 1):\n",
    "    page_num = (max_page_dig - len(str(i))) * \"\" + str(i)\n",
    "    url = \"https://www.pegipegi.com/hotel/indramayu/\"+ page_num +\".html?stayYear=2019&stayMonth=4&stayDay=09&stayCount=1&adultNum=2&autocomplete=indramayu&roomCount=1\"\n",
    "    response = get(url)\n",
    "    link.append(url)\n",
    "    \n",
    "for i in range(1, max_page_mjk + 1):\n",
    "    page_num = (max_page_dig - len(str(i))) * \"\" + str(i)\n",
    "    url = \"https://www.pegipegi.com/hotel/majalengka/\"+ page_num +\".html?stayYear=2019&stayMonth=4&stayDay=09&stayCount=1&adultNum=2&autocomplete=majalengka&roomCount=1\"\n",
    "    response = get(url)\n",
    "    link.append(url)\n",
    "    \n",
    "for i in range(1, max_page_kun + 1):\n",
    "    page_num = (max_page_dig - len(str(i))) * \"\" + str(i)\n",
    "    url = \"https://www.pegipegi.com/hotel/kuningan/\"+ page_num +\".html?stayYear=2019&stayMonth=4&stayDay=09&stayCount=1&adultNum=2&autocomplete=kuningan&roomCount=1\"\n",
    "    response = get(url)\n",
    "    link.append(url)\n",
    "    \n",
    "for i in range(1, max_page_kar + 1):\n",
    "    page_num = (max_page_dig - len(str(i))) * \"\" + str(i)\n",
    "    url = \"https://www.pegipegi.com/hotel/karawang/\"+ page_num +\".html?stayYear=2019&stayMonth=4&stayDay=09&stayCount=1&adultNum=2&autocomplete=karawang&roomCount=1\"\n",
    "    response = get(url)\n",
    "    link.append(url)\n",
    "     "
   ]
  },
  {
   "cell_type": "markdown",
   "metadata": {},
   "source": [
    "# Scrapping\n",
    "mengambil data dan memasukannya ke list"
   ]
  },
  {
   "cell_type": "code",
   "execution_count": 52,
   "metadata": {},
   "outputs": [],
   "source": [
    "#looping untuk scrapping data\n",
    "for j in range(len(link)):\n",
    "    response = get(link[j])\n",
    "    html_soup = BeautifulSoup(response.text, 'html.parser')\n",
    "    containers = html_soup.find('div', class_ = 'widget listResult')\n",
    "    new_containers = containers.find_all('div', class_ = 'listContent')\n",
    "    \n",
    "    for k in range(len(new_containers)):\n",
    "        hotel = new_containers[k]\n",
    "        \n",
    "        name = hotel.find('div', class_ = 'title').text\n",
    "        nama.append(name.strip())\n",
    "        \n",
    "        if hotel.find('span', class_=\"rating\") is not None:\n",
    "            soup = hotel.find('span', class_=\"rating\")\n",
    "            star = len(soup.find_all())\n",
    "            bintang.append(star)\n",
    "        else:\n",
    "            bintang.append('')\n",
    "        \n",
    "        price = hotel.find('div', class_ = 'diskonPrice formButton').text\n",
    "        harga.append(price.strip())\n",
    "        \n",
    "        lokasi = hotel.find('div', class_ = 'address').text\n",
    "        a_lokasi = lokasi.replace('\\n', '').strip()\n",
    "        b_lokasi = a_lokasi.replace('Tampilkan Peta','').strip()\n",
    "        c_lokasi = b_lokasi.split(\", \")\n",
    "        daerah.append(c_lokasi[0])\n",
    "        kota.append(c_lokasi[1].strip())\n",
    "        c_lokasi.clear()\n",
    "        \n",
    "        if hotel.find('div', class_ ='ratingRight') is not None:\n",
    "            feedback = hotel.find('div', class_ ='ratingRight').text\n",
    "            a_feedback = feedback.strip()\n",
    "            b_feedback = a_feedback.replace('\\n', ', ')\n",
    "            c_feedback = b_feedback.replace(' (', ', (')\n",
    "            d_feedback = c_feedback.split(\", \")\n",
    "        else :\n",
    "            d_feedback = [\"\",\"\",\"0\"]\n",
    "        rating.append(d_feedback[0])\n",
    "        overall.append(d_feedback[1])\n",
    "        responden.append(d_feedback[2].replace('(','').replace(')',''))\n",
    "        d_feedback.clear()\n",
    "        \n",
    "        if hotel.find('div', class_='mediumFitur1') is not None:\n",
    "            wifi.append(1)\n",
    "        else:\n",
    "            wifi.append(0)\n",
    "\n",
    "        if hotel.find('div', class_='mediumFitur2') is not None:\n",
    "            spa.append(1)\n",
    "        else:\n",
    "            spa.append(0)\n",
    "    \n",
    "        if hotel.find('div', class_='mediumFitur3') is not None:\n",
    "            restaurant.append(1)\n",
    "        else:\n",
    "            restaurant.append(0)\n",
    "    \n",
    "        if hotel.find('div', class_='mediumFitur4') is not None:\n",
    "            kolam_renang.append(1)\n",
    "        else:\n",
    "            kolam_renang.append(0)\n",
    "    \n",
    "        if hotel.find('div', class_='mediumFitur5') is not None:\n",
    "            parkir.append(1)\n",
    "        else:\n",
    "            parkir.append(0)\n",
    "    \n",
    "        if hotel.find('div', class_='mediumFitur6') is not None:\n",
    "            bar.append(1)\n",
    "        else:\n",
    "            bar.append(0)\n",
    "    \n",
    "        if hotel.find('div', class_='mediumFitur7') is not None:\n",
    "            layanan.append(1)\n",
    "        else:\n",
    "            layanan.append(0)\n",
    "        \n",
    "        desc = hotel.find('div', class_=\"contentDescriptionHotel\").text\n",
    "        deskripsi.append(desc.strip())\n",
    "        "
   ]
  },
  {
   "cell_type": "markdown",
   "metadata": {},
   "source": [
    "# Memasukan list ke Dataframe"
   ]
  },
  {
   "cell_type": "code",
   "execution_count": 53,
   "metadata": {},
   "outputs": [],
   "source": [
    "#memasukan hasil scrapping yang berbentuk list kedalam pandas data frame\n",
    "penginapan = pd.DataFrame({'nama': nama,\n",
    "                          'bintang': bintang,\n",
    "                          'daerah': daerah,\n",
    "                          'kota': kota,\n",
    "                          'wifi': wifi,\n",
    "                          'spa': spa,\n",
    "                          'restaurant': restaurant,\n",
    "                          'kolam_renang': kolam_renang,\n",
    "                          'parkir': parkir,\n",
    "                          'bar': bar,\n",
    "                          'layanan': layanan,\n",
    "                          'harga': harga,\n",
    "                          'rating': rating,\n",
    "                          'overall': overall,\n",
    "                          'responden': responden,\n",
    "                          'deskripsi': deskripsi})"
   ]
  },
  {
   "cell_type": "markdown",
   "metadata": {},
   "source": [
    "# Eksport ke .csv"
   ]
  },
  {
   "cell_type": "code",
   "execution_count": 54,
   "metadata": {},
   "outputs": [],
   "source": [
    "#mengeksport pandas data frame kedalam bentuk file .csv\n",
    "penginapan.to_csv('penginapan_jawabarat.csv', index=False)"
   ]
  },
  {
   "cell_type": "markdown",
   "metadata": {},
   "source": [
    "# Import Library"
   ]
  },
  {
   "cell_type": "code",
   "execution_count": 16,
   "metadata": {},
   "outputs": [],
   "source": [
    "import pandas as pd\n",
    "import numpy as np\n",
    "import matplotlib.pyplot as plt\n",
    "import seaborn as sns\n",
    "%matplotlib inline"
   ]
  },
  {
   "cell_type": "markdown",
   "metadata": {},
   "source": [
    "# Import Csv"
   ]
  },
  {
   "cell_type": "code",
   "execution_count": 3,
   "metadata": {},
   "outputs": [
    {
     "data": {
      "text/html": [
       "<div>\n",
       "<style scoped>\n",
       "    .dataframe tbody tr th:only-of-type {\n",
       "        vertical-align: middle;\n",
       "    }\n",
       "\n",
       "    .dataframe tbody tr th {\n",
       "        vertical-align: top;\n",
       "    }\n",
       "\n",
       "    .dataframe thead th {\n",
       "        text-align: right;\n",
       "    }\n",
       "</style>\n",
       "<table border=\"1\" class=\"dataframe\">\n",
       "  <thead>\n",
       "    <tr style=\"text-align: right;\">\n",
       "      <th></th>\n",
       "      <th>nama</th>\n",
       "      <th>bintang</th>\n",
       "      <th>daerah</th>\n",
       "      <th>kota</th>\n",
       "      <th>wifi</th>\n",
       "      <th>spa</th>\n",
       "      <th>restaurant</th>\n",
       "      <th>kolam_renang</th>\n",
       "      <th>parkir</th>\n",
       "      <th>bar</th>\n",
       "      <th>layanan</th>\n",
       "      <th>harga</th>\n",
       "      <th>rating</th>\n",
       "      <th>overall</th>\n",
       "      <th>responden</th>\n",
       "      <th>deskripsi</th>\n",
       "    </tr>\n",
       "  </thead>\n",
       "  <tbody>\n",
       "    <tr>\n",
       "      <th>0</th>\n",
       "      <td>Imperium Hotel Bandung</td>\n",
       "      <td>3</td>\n",
       "      <td>Cicendo</td>\n",
       "      <td>Bandung</td>\n",
       "      <td>1</td>\n",
       "      <td>0</td>\n",
       "      <td>1</td>\n",
       "      <td>1</td>\n",
       "      <td>1</td>\n",
       "      <td>0</td>\n",
       "      <td>1</td>\n",
       "      <td>Rp 164,463</td>\n",
       "      <td>6.8</td>\n",
       "      <td>Baik</td>\n",
       "      <td>370</td>\n",
       "      <td>Terletak strategis di pusat kota Bandung, Impe...</td>\n",
       "    </tr>\n",
       "    <tr>\n",
       "      <th>1</th>\n",
       "      <td>Aston Pasteur</td>\n",
       "      <td>4</td>\n",
       "      <td>Sukajadi</td>\n",
       "      <td>Bandung</td>\n",
       "      <td>1</td>\n",
       "      <td>0</td>\n",
       "      <td>1</td>\n",
       "      <td>1</td>\n",
       "      <td>1</td>\n",
       "      <td>1</td>\n",
       "      <td>1</td>\n",
       "      <td>Rp 578,000</td>\n",
       "      <td>8.8</td>\n",
       "      <td>Luar Biasa</td>\n",
       "      <td>249</td>\n",
       "      <td>Aston Pasteur Hotel (formerly Harper Pasteur) ...</td>\n",
       "    </tr>\n",
       "    <tr>\n",
       "      <th>2</th>\n",
       "      <td>POP! Hotel Bandung Festival CityLink - Bandung</td>\n",
       "      <td>2</td>\n",
       "      <td>Bojongloa Kaler</td>\n",
       "      <td>Bandung</td>\n",
       "      <td>1</td>\n",
       "      <td>0</td>\n",
       "      <td>0</td>\n",
       "      <td>1</td>\n",
       "      <td>1</td>\n",
       "      <td>0</td>\n",
       "      <td>1</td>\n",
       "      <td>Rp 349,380</td>\n",
       "      <td>8.2</td>\n",
       "      <td>Luar Biasa</td>\n",
       "      <td>236</td>\n",
       "      <td>Terletak hanya 5 menit dari pintu keluar Pasir...</td>\n",
       "    </tr>\n",
       "    <tr>\n",
       "      <th>3</th>\n",
       "      <td>Grand Tjokro Bandung</td>\n",
       "      <td>4</td>\n",
       "      <td>Coblong</td>\n",
       "      <td>Bandung</td>\n",
       "      <td>1</td>\n",
       "      <td>1</td>\n",
       "      <td>1</td>\n",
       "      <td>1</td>\n",
       "      <td>1</td>\n",
       "      <td>1</td>\n",
       "      <td>1</td>\n",
       "      <td>Rp 734,786</td>\n",
       "      <td>8.8</td>\n",
       "      <td>Luar Biasa</td>\n",
       "      <td>318</td>\n",
       "      <td>Berlokasi di Jalan Cihampelas Bandung, Grand T...</td>\n",
       "    </tr>\n",
       "    <tr>\n",
       "      <th>4</th>\n",
       "      <td>eL Hotel Royale Bandung</td>\n",
       "      <td>4</td>\n",
       "      <td>Sumur Bandung</td>\n",
       "      <td>Bandung</td>\n",
       "      <td>1</td>\n",
       "      <td>1</td>\n",
       "      <td>1</td>\n",
       "      <td>0</td>\n",
       "      <td>1</td>\n",
       "      <td>1</td>\n",
       "      <td>1</td>\n",
       "      <td>Rp 479,338</td>\n",
       "      <td>8.9</td>\n",
       "      <td>Luar Biasa</td>\n",
       "      <td>565</td>\n",
       "      <td>eL Royale Hotel Bandung, terletak di jantung k...</td>\n",
       "    </tr>\n",
       "  </tbody>\n",
       "</table>\n",
       "</div>"
      ],
      "text/plain": [
       "                                             nama  bintang           daerah  \\\n",
       "0                          Imperium Hotel Bandung        3          Cicendo   \n",
       "1                                   Aston Pasteur        4         Sukajadi   \n",
       "2  POP! Hotel Bandung Festival CityLink - Bandung        2  Bojongloa Kaler   \n",
       "3                            Grand Tjokro Bandung        4          Coblong   \n",
       "4                         eL Hotel Royale Bandung        4    Sumur Bandung   \n",
       "\n",
       "      kota  wifi  spa  restaurant  kolam_renang  parkir  bar  layanan  \\\n",
       "0  Bandung     1    0           1             1       1    0        1   \n",
       "1  Bandung     1    0           1             1       1    1        1   \n",
       "2  Bandung     1    0           0             1       1    0        1   \n",
       "3  Bandung     1    1           1             1       1    1        1   \n",
       "4  Bandung     1    1           1             0       1    1        1   \n",
       "\n",
       "        harga  rating     overall  responden  \\\n",
       "0  Rp 164,463     6.8        Baik        370   \n",
       "1  Rp 578,000     8.8  Luar Biasa        249   \n",
       "2  Rp 349,380     8.2  Luar Biasa        236   \n",
       "3  Rp 734,786     8.8  Luar Biasa        318   \n",
       "4  Rp 479,338     8.9  Luar Biasa        565   \n",
       "\n",
       "                                           deskripsi  \n",
       "0  Terletak strategis di pusat kota Bandung, Impe...  \n",
       "1  Aston Pasteur Hotel (formerly Harper Pasteur) ...  \n",
       "2  Terletak hanya 5 menit dari pintu keluar Pasir...  \n",
       "3  Berlokasi di Jalan Cihampelas Bandung, Grand T...  \n",
       "4  eL Royale Hotel Bandung, terletak di jantung k...  "
      ]
     },
     "execution_count": 3,
     "metadata": {},
     "output_type": "execute_result"
    }
   ],
   "source": [
    "df = pd.read_csv('penginapan_jawabarat.csv')\n",
    "df.head()"
   ]
  },
  {
   "cell_type": "markdown",
   "metadata": {},
   "source": [
    "# Peek The DATA"
   ]
  },
  {
   "cell_type": "code",
   "execution_count": 4,
   "metadata": {},
   "outputs": [
    {
     "data": {
      "text/plain": [
       "(1353, 16)"
      ]
     },
     "execution_count": 4,
     "metadata": {},
     "output_type": "execute_result"
    }
   ],
   "source": [
    "df.shape"
   ]
  },
  {
   "cell_type": "code",
   "execution_count": 5,
   "metadata": {},
   "outputs": [
    {
     "data": {
      "text/plain": [
       "nama             object\n",
       "bintang           int64\n",
       "daerah           object\n",
       "kota             object\n",
       "wifi              int64\n",
       "spa               int64\n",
       "restaurant        int64\n",
       "kolam_renang      int64\n",
       "parkir            int64\n",
       "bar               int64\n",
       "layanan           int64\n",
       "harga            object\n",
       "rating          float64\n",
       "overall          object\n",
       "responden         int64\n",
       "deskripsi        object\n",
       "dtype: object"
      ]
     },
     "execution_count": 5,
     "metadata": {},
     "output_type": "execute_result"
    }
   ],
   "source": [
    "df.dtypes"
   ]
  },
  {
   "cell_type": "code",
   "execution_count": 6,
   "metadata": {},
   "outputs": [
    {
     "name": "stdout",
     "output_type": "stream",
     "text": [
      "<class 'pandas.core.frame.DataFrame'>\n",
      "RangeIndex: 1353 entries, 0 to 1352\n",
      "Data columns (total 16 columns):\n",
      "nama            1353 non-null object\n",
      "bintang         1353 non-null int64\n",
      "daerah          1353 non-null object\n",
      "kota            1353 non-null object\n",
      "wifi            1353 non-null int64\n",
      "spa             1353 non-null int64\n",
      "restaurant      1353 non-null int64\n",
      "kolam_renang    1353 non-null int64\n",
      "parkir          1353 non-null int64\n",
      "bar             1353 non-null int64\n",
      "layanan         1353 non-null int64\n",
      "harga           1353 non-null object\n",
      "rating          923 non-null float64\n",
      "overall         923 non-null object\n",
      "responden       1353 non-null int64\n",
      "deskripsi       1353 non-null object\n",
      "dtypes: float64(1), int64(9), object(6)\n",
      "memory usage: 169.2+ KB\n"
     ]
    }
   ],
   "source": [
    "df.info()"
   ]
  },
  {
   "cell_type": "code",
   "execution_count": 7,
   "metadata": {},
   "outputs": [
    {
     "data": {
      "text/html": [
       "<div>\n",
       "<style scoped>\n",
       "    .dataframe tbody tr th:only-of-type {\n",
       "        vertical-align: middle;\n",
       "    }\n",
       "\n",
       "    .dataframe tbody tr th {\n",
       "        vertical-align: top;\n",
       "    }\n",
       "\n",
       "    .dataframe thead th {\n",
       "        text-align: right;\n",
       "    }\n",
       "</style>\n",
       "<table border=\"1\" class=\"dataframe\">\n",
       "  <thead>\n",
       "    <tr style=\"text-align: right;\">\n",
       "      <th></th>\n",
       "      <th>bintang</th>\n",
       "      <th>wifi</th>\n",
       "      <th>spa</th>\n",
       "      <th>restaurant</th>\n",
       "      <th>kolam_renang</th>\n",
       "      <th>parkir</th>\n",
       "      <th>bar</th>\n",
       "      <th>layanan</th>\n",
       "      <th>rating</th>\n",
       "      <th>responden</th>\n",
       "    </tr>\n",
       "  </thead>\n",
       "  <tbody>\n",
       "    <tr>\n",
       "      <th>count</th>\n",
       "      <td>1353.000000</td>\n",
       "      <td>1353.000000</td>\n",
       "      <td>1353.000000</td>\n",
       "      <td>1353.000000</td>\n",
       "      <td>1353.000000</td>\n",
       "      <td>1353.000000</td>\n",
       "      <td>1353.000000</td>\n",
       "      <td>1353.000000</td>\n",
       "      <td>923.000000</td>\n",
       "      <td>1353.000000</td>\n",
       "    </tr>\n",
       "    <tr>\n",
       "      <th>mean</th>\n",
       "      <td>2.071693</td>\n",
       "      <td>0.804878</td>\n",
       "      <td>0.216556</td>\n",
       "      <td>0.478936</td>\n",
       "      <td>0.355506</td>\n",
       "      <td>0.448633</td>\n",
       "      <td>0.209904</td>\n",
       "      <td>0.654841</td>\n",
       "      <td>8.238245</td>\n",
       "      <td>36.878049</td>\n",
       "    </tr>\n",
       "    <tr>\n",
       "      <th>std</th>\n",
       "      <td>1.259886</td>\n",
       "      <td>0.396441</td>\n",
       "      <td>0.412050</td>\n",
       "      <td>0.499741</td>\n",
       "      <td>0.478843</td>\n",
       "      <td>0.497538</td>\n",
       "      <td>0.407390</td>\n",
       "      <td>0.475596</td>\n",
       "      <td>1.184206</td>\n",
       "      <td>79.640496</td>\n",
       "    </tr>\n",
       "    <tr>\n",
       "      <th>min</th>\n",
       "      <td>0.000000</td>\n",
       "      <td>0.000000</td>\n",
       "      <td>0.000000</td>\n",
       "      <td>0.000000</td>\n",
       "      <td>0.000000</td>\n",
       "      <td>0.000000</td>\n",
       "      <td>0.000000</td>\n",
       "      <td>0.000000</td>\n",
       "      <td>2.000000</td>\n",
       "      <td>0.000000</td>\n",
       "    </tr>\n",
       "    <tr>\n",
       "      <th>25%</th>\n",
       "      <td>1.000000</td>\n",
       "      <td>1.000000</td>\n",
       "      <td>0.000000</td>\n",
       "      <td>0.000000</td>\n",
       "      <td>0.000000</td>\n",
       "      <td>0.000000</td>\n",
       "      <td>0.000000</td>\n",
       "      <td>0.000000</td>\n",
       "      <td>7.800000</td>\n",
       "      <td>0.000000</td>\n",
       "    </tr>\n",
       "    <tr>\n",
       "      <th>50%</th>\n",
       "      <td>2.000000</td>\n",
       "      <td>1.000000</td>\n",
       "      <td>0.000000</td>\n",
       "      <td>0.000000</td>\n",
       "      <td>0.000000</td>\n",
       "      <td>0.000000</td>\n",
       "      <td>0.000000</td>\n",
       "      <td>1.000000</td>\n",
       "      <td>8.400000</td>\n",
       "      <td>4.000000</td>\n",
       "    </tr>\n",
       "    <tr>\n",
       "      <th>75%</th>\n",
       "      <td>3.000000</td>\n",
       "      <td>1.000000</td>\n",
       "      <td>0.000000</td>\n",
       "      <td>1.000000</td>\n",
       "      <td>1.000000</td>\n",
       "      <td>1.000000</td>\n",
       "      <td>0.000000</td>\n",
       "      <td>1.000000</td>\n",
       "      <td>8.900000</td>\n",
       "      <td>38.000000</td>\n",
       "    </tr>\n",
       "    <tr>\n",
       "      <th>max</th>\n",
       "      <td>5.000000</td>\n",
       "      <td>1.000000</td>\n",
       "      <td>1.000000</td>\n",
       "      <td>1.000000</td>\n",
       "      <td>1.000000</td>\n",
       "      <td>1.000000</td>\n",
       "      <td>1.000000</td>\n",
       "      <td>1.000000</td>\n",
       "      <td>10.000000</td>\n",
       "      <td>1360.000000</td>\n",
       "    </tr>\n",
       "  </tbody>\n",
       "</table>\n",
       "</div>"
      ],
      "text/plain": [
       "           bintang         wifi          spa   restaurant  kolam_renang  \\\n",
       "count  1353.000000  1353.000000  1353.000000  1353.000000   1353.000000   \n",
       "mean      2.071693     0.804878     0.216556     0.478936      0.355506   \n",
       "std       1.259886     0.396441     0.412050     0.499741      0.478843   \n",
       "min       0.000000     0.000000     0.000000     0.000000      0.000000   \n",
       "25%       1.000000     1.000000     0.000000     0.000000      0.000000   \n",
       "50%       2.000000     1.000000     0.000000     0.000000      0.000000   \n",
       "75%       3.000000     1.000000     0.000000     1.000000      1.000000   \n",
       "max       5.000000     1.000000     1.000000     1.000000      1.000000   \n",
       "\n",
       "            parkir          bar      layanan      rating    responden  \n",
       "count  1353.000000  1353.000000  1353.000000  923.000000  1353.000000  \n",
       "mean      0.448633     0.209904     0.654841    8.238245    36.878049  \n",
       "std       0.497538     0.407390     0.475596    1.184206    79.640496  \n",
       "min       0.000000     0.000000     0.000000    2.000000     0.000000  \n",
       "25%       0.000000     0.000000     0.000000    7.800000     0.000000  \n",
       "50%       0.000000     0.000000     1.000000    8.400000     4.000000  \n",
       "75%       1.000000     0.000000     1.000000    8.900000    38.000000  \n",
       "max       1.000000     1.000000     1.000000   10.000000  1360.000000  "
      ]
     },
     "execution_count": 7,
     "metadata": {},
     "output_type": "execute_result"
    }
   ],
   "source": [
    "df.describe()"
   ]
  },
  {
   "cell_type": "code",
   "execution_count": 8,
   "metadata": {},
   "outputs": [
    {
     "data": {
      "text/plain": [
       "Index(['nama', 'bintang', 'daerah', 'kota', 'wifi', 'spa', 'restaurant',\n",
       "       'kolam_renang', 'parkir', 'bar', 'layanan', 'harga', 'rating',\n",
       "       'overall', 'responden', 'deskripsi'],\n",
       "      dtype='object')"
      ]
     },
     "execution_count": 8,
     "metadata": {},
     "output_type": "execute_result"
    }
   ],
   "source": [
    "df.columns"
   ]
  },
  {
   "cell_type": "code",
   "execution_count": 17,
   "metadata": {},
   "outputs": [
    {
     "data": {
      "text/plain": [
       "nama              0\n",
       "bintang           0\n",
       "daerah            0\n",
       "kota              0\n",
       "wifi              0\n",
       "spa               0\n",
       "restaurant        0\n",
       "kolam_renang      0\n",
       "parkir            0\n",
       "bar               0\n",
       "layanan           0\n",
       "harga             0\n",
       "rating          430\n",
       "overall         430\n",
       "responden         0\n",
       "deskripsi         0\n",
       "dtype: int64"
      ]
     },
     "execution_count": 17,
     "metadata": {},
     "output_type": "execute_result"
    }
   ],
   "source": [
    "df.isnull().sum()"
   ]
  },
  {
   "cell_type": "markdown",
   "metadata": {},
   "source": [
    "# Preprocessing"
   ]
  },
  {
   "cell_type": "code",
   "execution_count": 58,
   "metadata": {},
   "outputs": [],
   "source": [
    "hotel = df.copy()"
   ]
  },
  {
   "cell_type": "code",
   "execution_count": 60,
   "metadata": {},
   "outputs": [
    {
     "data": {
      "text/plain": [
       "nama              0\n",
       "bintang           0\n",
       "daerah            0\n",
       "kota              0\n",
       "wifi              0\n",
       "spa               0\n",
       "restaurant        0\n",
       "kolam_renang      0\n",
       "parkir            0\n",
       "bar               0\n",
       "layanan           0\n",
       "harga             0\n",
       "rating          430\n",
       "overall         430\n",
       "responden         0\n",
       "deskripsi         0\n",
       "dtype: int64"
      ]
     },
     "execution_count": 60,
     "metadata": {},
     "output_type": "execute_result"
    }
   ],
   "source": [
    "hotel.isnull().sum()"
   ]
  },
  {
   "cell_type": "code",
   "execution_count": 61,
   "metadata": {},
   "outputs": [
    {
     "data": {
      "text/plain": [
       "(1353, 16)"
      ]
     },
     "execution_count": 61,
     "metadata": {},
     "output_type": "execute_result"
    }
   ],
   "source": [
    "hotel.shape"
   ]
  },
  {
   "cell_type": "code",
   "execution_count": 62,
   "metadata": {},
   "outputs": [],
   "source": [
    "#remove null value\n",
    "hotel = hotel.dropna(how='any',axis=0) "
   ]
  },
  {
   "cell_type": "code",
   "execution_count": 63,
   "metadata": {},
   "outputs": [
    {
     "data": {
      "text/plain": [
       "nama            0\n",
       "bintang         0\n",
       "daerah          0\n",
       "kota            0\n",
       "wifi            0\n",
       "spa             0\n",
       "restaurant      0\n",
       "kolam_renang    0\n",
       "parkir          0\n",
       "bar             0\n",
       "layanan         0\n",
       "harga           0\n",
       "rating          0\n",
       "overall         0\n",
       "responden       0\n",
       "deskripsi       0\n",
       "dtype: int64"
      ]
     },
     "execution_count": 63,
     "metadata": {},
     "output_type": "execute_result"
    }
   ],
   "source": [
    "hotel.isnull().sum()"
   ]
  },
  {
   "cell_type": "code",
   "execution_count": 64,
   "metadata": {},
   "outputs": [
    {
     "data": {
      "text/plain": [
       "(923, 16)"
      ]
     },
     "execution_count": 64,
     "metadata": {},
     "output_type": "execute_result"
    }
   ],
   "source": [
    "hotel.shape"
   ]
  },
  {
   "cell_type": "code",
   "execution_count": 65,
   "metadata": {},
   "outputs": [
    {
     "data": {
      "text/html": [
       "<div>\n",
       "<style scoped>\n",
       "    .dataframe tbody tr th:only-of-type {\n",
       "        vertical-align: middle;\n",
       "    }\n",
       "\n",
       "    .dataframe tbody tr th {\n",
       "        vertical-align: top;\n",
       "    }\n",
       "\n",
       "    .dataframe thead th {\n",
       "        text-align: right;\n",
       "    }\n",
       "</style>\n",
       "<table border=\"1\" class=\"dataframe\">\n",
       "  <thead>\n",
       "    <tr style=\"text-align: right;\">\n",
       "      <th></th>\n",
       "      <th>nama</th>\n",
       "      <th>bintang</th>\n",
       "      <th>daerah</th>\n",
       "      <th>kota</th>\n",
       "      <th>wifi</th>\n",
       "      <th>spa</th>\n",
       "      <th>restaurant</th>\n",
       "      <th>kolam_renang</th>\n",
       "      <th>parkir</th>\n",
       "      <th>bar</th>\n",
       "      <th>layanan</th>\n",
       "      <th>harga</th>\n",
       "      <th>rating</th>\n",
       "      <th>overall</th>\n",
       "      <th>responden</th>\n",
       "      <th>deskripsi</th>\n",
       "    </tr>\n",
       "  </thead>\n",
       "  <tbody>\n",
       "    <tr>\n",
       "      <th>0</th>\n",
       "      <td>Imperium Hotel Bandung</td>\n",
       "      <td>3</td>\n",
       "      <td>Cicendo</td>\n",
       "      <td>Bandung</td>\n",
       "      <td>1</td>\n",
       "      <td>0</td>\n",
       "      <td>1</td>\n",
       "      <td>1</td>\n",
       "      <td>1</td>\n",
       "      <td>0</td>\n",
       "      <td>1</td>\n",
       "      <td>Rp 164,463</td>\n",
       "      <td>6.8</td>\n",
       "      <td>Baik</td>\n",
       "      <td>370</td>\n",
       "      <td>Terletak strategis di pusat kota Bandung, Impe...</td>\n",
       "    </tr>\n",
       "  </tbody>\n",
       "</table>\n",
       "</div>"
      ],
      "text/plain": [
       "                     nama  bintang   daerah     kota  wifi  spa  restaurant  \\\n",
       "0  Imperium Hotel Bandung        3  Cicendo  Bandung     1    0           1   \n",
       "\n",
       "   kolam_renang  parkir  bar  layanan       harga  rating overall  responden  \\\n",
       "0             1       1    0        1  Rp 164,463     6.8    Baik        370   \n",
       "\n",
       "                                           deskripsi  \n",
       "0  Terletak strategis di pusat kota Bandung, Impe...  "
      ]
     },
     "execution_count": 65,
     "metadata": {},
     "output_type": "execute_result"
    }
   ],
   "source": [
    "hotel.head(1)"
   ]
  },
  {
   "cell_type": "code",
   "execution_count": 66,
   "metadata": {},
   "outputs": [
    {
     "data": {
      "text/html": [
       "<div>\n",
       "<style scoped>\n",
       "    .dataframe tbody tr th:only-of-type {\n",
       "        vertical-align: middle;\n",
       "    }\n",
       "\n",
       "    .dataframe tbody tr th {\n",
       "        vertical-align: top;\n",
       "    }\n",
       "\n",
       "    .dataframe thead th {\n",
       "        text-align: right;\n",
       "    }\n",
       "</style>\n",
       "<table border=\"1\" class=\"dataframe\">\n",
       "  <thead>\n",
       "    <tr style=\"text-align: right;\">\n",
       "      <th></th>\n",
       "      <th>nama</th>\n",
       "      <th>bintang</th>\n",
       "      <th>daerah</th>\n",
       "      <th>kota</th>\n",
       "      <th>wifi</th>\n",
       "      <th>spa</th>\n",
       "      <th>restaurant</th>\n",
       "      <th>kolam_renang</th>\n",
       "      <th>parkir</th>\n",
       "      <th>bar</th>\n",
       "      <th>layanan</th>\n",
       "      <th>harga</th>\n",
       "      <th>rating</th>\n",
       "      <th>overall</th>\n",
       "      <th>responden</th>\n",
       "      <th>deskripsi</th>\n",
       "    </tr>\n",
       "  </thead>\n",
       "  <tbody>\n",
       "    <tr>\n",
       "      <th>0</th>\n",
       "      <td>Imperium Hotel Bandung</td>\n",
       "      <td>3</td>\n",
       "      <td>Cicendo</td>\n",
       "      <td>Bandung</td>\n",
       "      <td>1</td>\n",
       "      <td>0</td>\n",
       "      <td>1</td>\n",
       "      <td>1</td>\n",
       "      <td>1</td>\n",
       "      <td>0</td>\n",
       "      <td>1</td>\n",
       "      <td>164463</td>\n",
       "      <td>6.8</td>\n",
       "      <td>Baik</td>\n",
       "      <td>370</td>\n",
       "      <td>Terletak strategis di pusat kota Bandung, Impe...</td>\n",
       "    </tr>\n",
       "  </tbody>\n",
       "</table>\n",
       "</div>"
      ],
      "text/plain": [
       "                     nama  bintang   daerah     kota  wifi  spa  restaurant  \\\n",
       "0  Imperium Hotel Bandung        3  Cicendo  Bandung     1    0           1   \n",
       "\n",
       "   kolam_renang  parkir  bar  layanan   harga  rating overall  responden  \\\n",
       "0             1       1    0        1  164463     6.8    Baik        370   \n",
       "\n",
       "                                           deskripsi  \n",
       "0  Terletak strategis di pusat kota Bandung, Impe...  "
      ]
     },
     "execution_count": 66,
     "metadata": {},
     "output_type": "execute_result"
    }
   ],
   "source": [
    "hotel['harga'] = hotel['harga'].str.replace(r'\\D+', '').astype('int')\n",
    "hotel.head(1)"
   ]
  },
  {
   "cell_type": "code",
   "execution_count": 67,
   "metadata": {},
   "outputs": [
    {
     "data": {
      "text/plain": [
       "Index(['nama', 'bintang', 'daerah', 'kota', 'wifi', 'spa', 'restaurant',\n",
       "       'kolam_renang', 'parkir', 'bar', 'layanan', 'harga', 'rating',\n",
       "       'overall', 'responden', 'deskripsi'],\n",
       "      dtype='object')"
      ]
     },
     "execution_count": 67,
     "metadata": {},
     "output_type": "execute_result"
    }
   ],
   "source": [
    "hotel.columns"
   ]
  },
  {
   "cell_type": "code",
   "execution_count": 68,
   "metadata": {},
   "outputs": [
    {
     "data": {
      "text/html": [
       "<div>\n",
       "<style scoped>\n",
       "    .dataframe tbody tr th:only-of-type {\n",
       "        vertical-align: middle;\n",
       "    }\n",
       "\n",
       "    .dataframe tbody tr th {\n",
       "        vertical-align: top;\n",
       "    }\n",
       "\n",
       "    .dataframe thead th {\n",
       "        text-align: right;\n",
       "    }\n",
       "</style>\n",
       "<table border=\"1\" class=\"dataframe\">\n",
       "  <thead>\n",
       "    <tr style=\"text-align: right;\">\n",
       "      <th></th>\n",
       "      <th>nama</th>\n",
       "      <th>bintang</th>\n",
       "      <th>wifi</th>\n",
       "      <th>spa</th>\n",
       "      <th>restaurant</th>\n",
       "      <th>kolam_renang</th>\n",
       "      <th>bar</th>\n",
       "      <th>harga</th>\n",
       "    </tr>\n",
       "  </thead>\n",
       "  <tbody>\n",
       "    <tr>\n",
       "      <th>0</th>\n",
       "      <td>Imperium Hotel Bandung</td>\n",
       "      <td>3</td>\n",
       "      <td>1</td>\n",
       "      <td>0</td>\n",
       "      <td>1</td>\n",
       "      <td>1</td>\n",
       "      <td>0</td>\n",
       "      <td>164463</td>\n",
       "    </tr>\n",
       "    <tr>\n",
       "      <th>1</th>\n",
       "      <td>Aston Pasteur</td>\n",
       "      <td>4</td>\n",
       "      <td>1</td>\n",
       "      <td>0</td>\n",
       "      <td>1</td>\n",
       "      <td>1</td>\n",
       "      <td>1</td>\n",
       "      <td>578000</td>\n",
       "    </tr>\n",
       "    <tr>\n",
       "      <th>2</th>\n",
       "      <td>POP! Hotel Bandung Festival CityLink - Bandung</td>\n",
       "      <td>2</td>\n",
       "      <td>1</td>\n",
       "      <td>0</td>\n",
       "      <td>0</td>\n",
       "      <td>1</td>\n",
       "      <td>0</td>\n",
       "      <td>349380</td>\n",
       "    </tr>\n",
       "  </tbody>\n",
       "</table>\n",
       "</div>"
      ],
      "text/plain": [
       "                                             nama  bintang  wifi  spa  \\\n",
       "0                          Imperium Hotel Bandung        3     1    0   \n",
       "1                                   Aston Pasteur        4     1    0   \n",
       "2  POP! Hotel Bandung Festival CityLink - Bandung        2     1    0   \n",
       "\n",
       "   restaurant  kolam_renang  bar   harga  \n",
       "0           1             1    0  164463  \n",
       "1           1             1    1  578000  \n",
       "2           0             1    0  349380  "
      ]
     },
     "execution_count": 68,
     "metadata": {},
     "output_type": "execute_result"
    }
   ],
   "source": [
    "hotel.drop(['daerah','kota','parkir','layanan','responden','overall','deskripsi','rating'], axis=1 , inplace=True)\n",
    "hotel.head(3)"
   ]
  },
  {
   "cell_type": "code",
   "execution_count": 69,
   "metadata": {},
   "outputs": [],
   "source": [
    "hotel['fasilitas'] = hotel['spa']+hotel['restaurant']+hotel['kolam_renang']+hotel['bar']+hotel['wifi']"
   ]
  },
  {
   "cell_type": "code",
   "execution_count": 70,
   "metadata": {},
   "outputs": [],
   "source": [
    "hotel.drop(['wifi','spa','restaurant','kolam_renang','bar'], axis=1 , inplace=True)"
   ]
  },
  {
   "cell_type": "code",
   "execution_count": 71,
   "metadata": {},
   "outputs": [
    {
     "data": {
      "text/html": [
       "<div>\n",
       "<style scoped>\n",
       "    .dataframe tbody tr th:only-of-type {\n",
       "        vertical-align: middle;\n",
       "    }\n",
       "\n",
       "    .dataframe tbody tr th {\n",
       "        vertical-align: top;\n",
       "    }\n",
       "\n",
       "    .dataframe thead th {\n",
       "        text-align: right;\n",
       "    }\n",
       "</style>\n",
       "<table border=\"1\" class=\"dataframe\">\n",
       "  <thead>\n",
       "    <tr style=\"text-align: right;\">\n",
       "      <th></th>\n",
       "      <th>nama</th>\n",
       "      <th>bintang</th>\n",
       "      <th>harga</th>\n",
       "      <th>fasilitas</th>\n",
       "    </tr>\n",
       "  </thead>\n",
       "  <tbody>\n",
       "    <tr>\n",
       "      <th>0</th>\n",
       "      <td>Imperium Hotel Bandung</td>\n",
       "      <td>3</td>\n",
       "      <td>164463</td>\n",
       "      <td>3</td>\n",
       "    </tr>\n",
       "    <tr>\n",
       "      <th>1</th>\n",
       "      <td>Aston Pasteur</td>\n",
       "      <td>4</td>\n",
       "      <td>578000</td>\n",
       "      <td>4</td>\n",
       "    </tr>\n",
       "    <tr>\n",
       "      <th>2</th>\n",
       "      <td>POP! Hotel Bandung Festival CityLink - Bandung</td>\n",
       "      <td>2</td>\n",
       "      <td>349380</td>\n",
       "      <td>2</td>\n",
       "    </tr>\n",
       "    <tr>\n",
       "      <th>3</th>\n",
       "      <td>Grand Tjokro Bandung</td>\n",
       "      <td>4</td>\n",
       "      <td>734786</td>\n",
       "      <td>5</td>\n",
       "    </tr>\n",
       "    <tr>\n",
       "      <th>4</th>\n",
       "      <td>eL Hotel Royale Bandung</td>\n",
       "      <td>4</td>\n",
       "      <td>479338</td>\n",
       "      <td>4</td>\n",
       "    </tr>\n",
       "  </tbody>\n",
       "</table>\n",
       "</div>"
      ],
      "text/plain": [
       "                                             nama  bintang   harga  fasilitas\n",
       "0                          Imperium Hotel Bandung        3  164463          3\n",
       "1                                   Aston Pasteur        4  578000          4\n",
       "2  POP! Hotel Bandung Festival CityLink - Bandung        2  349380          2\n",
       "3                            Grand Tjokro Bandung        4  734786          5\n",
       "4                         eL Hotel Royale Bandung        4  479338          4"
      ]
     },
     "execution_count": 71,
     "metadata": {},
     "output_type": "execute_result"
    }
   ],
   "source": [
    "hotel.head()"
   ]
  },
  {
   "cell_type": "code",
   "execution_count": 72,
   "metadata": {},
   "outputs": [
    {
     "data": {
      "text/plain": [
       "Text(0.5, 1.0, 'Correlation between different features')"
      ]
     },
     "execution_count": 72,
     "metadata": {},
     "output_type": "execute_result"
    },
    {
     "data": {
      "image/png": "[encoded data removed]",
      "text/plain": [
       "<Figure size 1080x720 with 2 Axes>"
      ]
     },
     "metadata": {
      "needs_background": "light"
     },
     "output_type": "display_data"
    }
   ],
   "source": [
    "plt.figure(figsize=(15,10))\n",
    "sns.heatmap(hotel.corr(), annot=True, linewidths=.20, fmt='.3f')\n",
    "plt.title('Correlation between different features')"
   ]
  },
  {
   "cell_type": "markdown",
   "metadata": {},
   "source": [
    "# Clustering"
   ]
  },
  {
   "cell_type": "markdown",
   "metadata": {},
   "source": [
    "### Mengambil fitur\n",
    "kolom fasilitas dan bintang"
   ]
  },
  {
   "cell_type": "code",
   "execution_count": 73,
   "metadata": {},
   "outputs": [],
   "source": [
    "X = hotel.loc[:,['fasilitas','bintang']].values"
   ]
  },
  {
   "cell_type": "code",
   "execution_count": 74,
   "metadata": {},
   "outputs": [
    {
     "data": {
      "text/html": [
       "<div>\n",
       "<style scoped>\n",
       "    .dataframe tbody tr th:only-of-type {\n",
       "        vertical-align: middle;\n",
       "    }\n",
       "\n",
       "    .dataframe tbody tr th {\n",
       "        vertical-align: top;\n",
       "    }\n",
       "\n",
       "    .dataframe thead th {\n",
       "        text-align: right;\n",
       "    }\n",
       "</style>\n",
       "<table border=\"1\" class=\"dataframe\">\n",
       "  <thead>\n",
       "    <tr style=\"text-align: right;\">\n",
       "      <th></th>\n",
       "      <th>fasilitas</th>\n",
       "      <th>bintang</th>\n",
       "    </tr>\n",
       "  </thead>\n",
       "  <tbody>\n",
       "    <tr>\n",
       "      <th>0</th>\n",
       "      <td>3</td>\n",
       "      <td>3</td>\n",
       "    </tr>\n",
       "    <tr>\n",
       "      <th>1</th>\n",
       "      <td>4</td>\n",
       "      <td>4</td>\n",
       "    </tr>\n",
       "    <tr>\n",
       "      <th>2</th>\n",
       "      <td>2</td>\n",
       "      <td>2</td>\n",
       "    </tr>\n",
       "    <tr>\n",
       "      <th>3</th>\n",
       "      <td>5</td>\n",
       "      <td>4</td>\n",
       "    </tr>\n",
       "    <tr>\n",
       "      <th>4</th>\n",
       "      <td>4</td>\n",
       "      <td>4</td>\n",
       "    </tr>\n",
       "  </tbody>\n",
       "</table>\n",
       "</div>"
      ],
      "text/plain": [
       "   fasilitas  bintang\n",
       "0          3        3\n",
       "1          4        4\n",
       "2          2        2\n",
       "3          5        4\n",
       "4          4        4"
      ]
     },
     "execution_count": 74,
     "metadata": {},
     "output_type": "execute_result"
    }
   ],
   "source": [
    "hotel.loc[:,['fasilitas','bintang']].head()"
   ]
  },
  {
   "cell_type": "markdown",
   "metadata": {},
   "source": [
    "### Elbow Method\n",
    "mencari nilai k (jumlah cluster)"
   ]
  },
  {
   "cell_type": "code",
   "execution_count": 75,
   "metadata": {},
   "outputs": [
    {
     "data": {
      "image/png": "[encoded data removed]",
      "text/plain": [
       "<Figure size 432x288 with 1 Axes>"
      ]
     },
     "metadata": {
      "needs_background": "light"
     },
     "output_type": "display_data"
    }
   ],
   "source": [
    "from sklearn.cluster import KMeans\n",
    "sse = []\n",
    "\n",
    "for i in range(1,11): #From 2-10 doing multiple random initializations can make a huge difference to find a better local optimal\n",
    "    kmeans = KMeans(n_clusters = i, init ='k-means++',max_iter=300,n_init=10)\n",
    "    kmeans.fit(X)\n",
    "    sse.append(kmeans.inertia_)\n",
    "plt.plot(range(1,11) , sse)\n",
    "plt.title('The Elbow Method')\n",
    "plt.xlabel('Number Of Clusters')\n",
    "plt.ylabel('SSE')\n",
    "plt.show()"
   ]
  },
  {
   "cell_type": "markdown",
   "metadata": {},
   "source": [
    "Jumlah Cluster yang diambil adalah 4"
   ]
  },
  {
   "cell_type": "markdown",
   "metadata": {},
   "source": [
    "### K-Means\n",
    "menentukan centroids (titik pusatmasing-masing cluster)"
   ]
  },
  {
   "cell_type": "code",
   "execution_count": 148,
   "metadata": {},
   "outputs": [],
   "source": [
    "# Fitting K-Means to the dataset\n",
    "kmeans = KMeans(n_clusters = 4, init = 'k-means++')\n",
    "y_kmeans = kmeans.fit_predict(X)\n",
    "centroids = kmeans.cluster_centers_"
   ]
  },
  {
   "cell_type": "code",
   "execution_count": 149,
   "metadata": {},
   "outputs": [
    {
     "name": "stdout",
     "output_type": "stream",
     "text": [
      "[[4.7        3.88461538]\n",
      " [1.41904762 2.44126984]\n",
      " [1.48373984 0.44308943]\n",
      " [3.42241379 2.75862069]]\n"
     ]
    }
   ],
   "source": [
    "print(centroids)"
   ]
  },
  {
   "cell_type": "code",
   "execution_count": 161,
   "metadata": {},
   "outputs": [
    {
     "data": {
      "image/png": "[encoded data removed]",
      "text/plain": [
       "<Figure size 432x288 with 1 Axes>"
      ]
     },
     "metadata": {
      "needs_background": "light"
     },
     "output_type": "display_data"
    }
   ],
   "source": [
    "plt.scatter(X[y_kmeans == 0, 0], X[y_kmeans == 0, 1], s = 50, c = 'red', label = 'Hotel Class 1')\n",
    "plt.scatter(X[y_kmeans == 1, 0], X[y_kmeans == 1, 1], s = 50, c = 'blue', label = 'Hotel Class 3')\n",
    "plt.scatter(X[y_kmeans == 2, 0], X[y_kmeans == 2, 1], s = 50, c = 'green', label = 'Hotel Class 4')\n",
    "plt.scatter(X[y_kmeans == 3, 0], X[y_kmeans == 3, 1], s = 50, c = 'orange', label = 'Hotel Class 2')\n",
    "\n",
    "\n",
    "plt.scatter(kmeans.centroids[:, 0], kmeans.centroids[:, 1], s = 100, c = 'grey', label = 'Centroids')\n",
    "plt.title('hotel type cluster')\n",
    "plt.xlabel('fasilitas')\n",
    "plt.ylabel('bintang hotel')\n",
    "plt.show()"
   ]
  },
  {
   "cell_type": "markdown",
   "metadata": {},
   "source": [
    "Merah  = Hotel Class 1 (Hotel Bintang Tinggi dengan Fasilitas Lengkap)\n",
    "\n",
    "Jingga = Hotel Class 2 (Hotel Bintang Menengah dengan Fasilitas Lengkap)\n",
    "\n",
    "Biru   = Hotel Class 3 (Hotel Bintang Menengah dengan Fasilitas Sedikit)\n",
    "\n",
    "Hijau  = Hotel Class 4 (Hotel Bintang Rendah dengan Fasilitas Beragam)"
   ]
  },
  {
   "cell_type": "markdown",
   "metadata": {},
   "source": [
    "# SAVE CLUSTER TO .CSV"
   ]
  },
  {
   "cell_type": "markdown",
   "metadata": {},
   "source": [
    "### Read CSV"
   ]
  },
  {
   "cell_type": "code",
   "execution_count": 252,
   "metadata": {},
   "outputs": [
    {
     "data": {
      "text/html": [
       "<div>\n",
       "<style scoped>\n",
       "    .dataframe tbody tr th:only-of-type {\n",
       "        vertical-align: middle;\n",
       "    }\n",
       "\n",
       "    .dataframe tbody tr th {\n",
       "        vertical-align: top;\n",
       "    }\n",
       "\n",
       "    .dataframe thead th {\n",
       "        text-align: right;\n",
       "    }\n",
       "</style>\n",
       "<table border=\"1\" class=\"dataframe\">\n",
       "  <thead>\n",
       "    <tr style=\"text-align: right;\">\n",
       "      <th></th>\n",
       "      <th>nama</th>\n",
       "      <th>bintang</th>\n",
       "      <th>daerah</th>\n",
       "      <th>kota</th>\n",
       "      <th>wifi</th>\n",
       "      <th>spa</th>\n",
       "      <th>restaurant</th>\n",
       "      <th>kolam_renang</th>\n",
       "      <th>parkir</th>\n",
       "      <th>bar</th>\n",
       "      <th>layanan</th>\n",
       "      <th>harga</th>\n",
       "      <th>rating</th>\n",
       "      <th>overall</th>\n",
       "      <th>responden</th>\n",
       "      <th>deskripsi</th>\n",
       "    </tr>\n",
       "  </thead>\n",
       "  <tbody>\n",
       "    <tr>\n",
       "      <th>0</th>\n",
       "      <td>Imperium Hotel Bandung</td>\n",
       "      <td>3</td>\n",
       "      <td>Cicendo</td>\n",
       "      <td>Bandung</td>\n",
       "      <td>1</td>\n",
       "      <td>0</td>\n",
       "      <td>1</td>\n",
       "      <td>1</td>\n",
       "      <td>1</td>\n",
       "      <td>0</td>\n",
       "      <td>1</td>\n",
       "      <td>Rp 164,463</td>\n",
       "      <td>6.8</td>\n",
       "      <td>Baik</td>\n",
       "      <td>370</td>\n",
       "      <td>Terletak strategis di pusat kota Bandung, Impe...</td>\n",
       "    </tr>\n",
       "    <tr>\n",
       "      <th>1</th>\n",
       "      <td>Aston Pasteur</td>\n",
       "      <td>4</td>\n",
       "      <td>Sukajadi</td>\n",
       "      <td>Bandung</td>\n",
       "      <td>1</td>\n",
       "      <td>0</td>\n",
       "      <td>1</td>\n",
       "      <td>1</td>\n",
       "      <td>1</td>\n",
       "      <td>1</td>\n",
       "      <td>1</td>\n",
       "      <td>Rp 578,000</td>\n",
       "      <td>8.8</td>\n",
       "      <td>Luar Biasa</td>\n",
       "      <td>249</td>\n",
       "      <td>Aston Pasteur Hotel (formerly Harper Pasteur) ...</td>\n",
       "    </tr>\n",
       "    <tr>\n",
       "      <th>2</th>\n",
       "      <td>POP! Hotel Bandung Festival CityLink - Bandung</td>\n",
       "      <td>2</td>\n",
       "      <td>Bojongloa Kaler</td>\n",
       "      <td>Bandung</td>\n",
       "      <td>1</td>\n",
       "      <td>0</td>\n",
       "      <td>0</td>\n",
       "      <td>1</td>\n",
       "      <td>1</td>\n",
       "      <td>0</td>\n",
       "      <td>1</td>\n",
       "      <td>Rp 349,380</td>\n",
       "      <td>8.2</td>\n",
       "      <td>Luar Biasa</td>\n",
       "      <td>236</td>\n",
       "      <td>Terletak hanya 5 menit dari pintu keluar Pasir...</td>\n",
       "    </tr>\n",
       "  </tbody>\n",
       "</table>\n",
       "</div>"
      ],
      "text/plain": [
       "                                             nama  bintang           daerah  \\\n",
       "0                          Imperium Hotel Bandung        3          Cicendo   \n",
       "1                                   Aston Pasteur        4         Sukajadi   \n",
       "2  POP! Hotel Bandung Festival CityLink - Bandung        2  Bojongloa Kaler   \n",
       "\n",
       "      kota  wifi  spa  restaurant  kolam_renang  parkir  bar  layanan  \\\n",
       "0  Bandung     1    0           1             1       1    0        1   \n",
       "1  Bandung     1    0           1             1       1    1        1   \n",
       "2  Bandung     1    0           0             1       1    0        1   \n",
       "\n",
       "        harga  rating     overall  responden  \\\n",
       "0  Rp 164,463     6.8        Baik        370   \n",
       "1  Rp 578,000     8.8  Luar Biasa        249   \n",
       "2  Rp 349,380     8.2  Luar Biasa        236   \n",
       "\n",
       "                                           deskripsi  \n",
       "0  Terletak strategis di pusat kota Bandung, Impe...  \n",
       "1  Aston Pasteur Hotel (formerly Harper Pasteur) ...  \n",
       "2  Terletak hanya 5 menit dari pintu keluar Pasir...  "
      ]
     },
     "execution_count": 252,
     "metadata": {},
     "output_type": "execute_result"
    }
   ],
   "source": [
    "hasil = pd.read_csv(\"penginapan_jawabarat.csv\")\n",
    "hasil.head(3)"
   ]
  },
  {
   "cell_type": "code",
   "execution_count": 253,
   "metadata": {},
   "outputs": [],
   "source": [
    "hasil = hasil.dropna(how='any',axis=0)\n",
    "hasil.drop(['parkir','layanan','responden','overall','deskripsi'], axis=1 , inplace=True)\n",
    "hasil['harga'] = hasil['harga'].str.replace(r'\\D+', '').astype('int')\n",
    "hasil['fasilitas'] = hasil['spa']+hasil['restaurant']+hasil['kolam_renang']+hasil['bar']+hasil['wifi']"
   ]
  },
  {
   "cell_type": "code",
   "execution_count": 254,
   "metadata": {},
   "outputs": [
    {
     "data": {
      "text/html": [
       "<div>\n",
       "<style scoped>\n",
       "    .dataframe tbody tr th:only-of-type {\n",
       "        vertical-align: middle;\n",
       "    }\n",
       "\n",
       "    .dataframe tbody tr th {\n",
       "        vertical-align: top;\n",
       "    }\n",
       "\n",
       "    .dataframe thead th {\n",
       "        text-align: right;\n",
       "    }\n",
       "</style>\n",
       "<table border=\"1\" class=\"dataframe\">\n",
       "  <thead>\n",
       "    <tr style=\"text-align: right;\">\n",
       "      <th></th>\n",
       "      <th>nama</th>\n",
       "      <th>bintang</th>\n",
       "      <th>daerah</th>\n",
       "      <th>kota</th>\n",
       "      <th>wifi</th>\n",
       "      <th>spa</th>\n",
       "      <th>restaurant</th>\n",
       "      <th>kolam_renang</th>\n",
       "      <th>bar</th>\n",
       "      <th>harga</th>\n",
       "      <th>rating</th>\n",
       "      <th>fasilitas</th>\n",
       "    </tr>\n",
       "  </thead>\n",
       "  <tbody>\n",
       "    <tr>\n",
       "      <th>0</th>\n",
       "      <td>Imperium Hotel Bandung</td>\n",
       "      <td>3</td>\n",
       "      <td>Cicendo</td>\n",
       "      <td>Bandung</td>\n",
       "      <td>1</td>\n",
       "      <td>0</td>\n",
       "      <td>1</td>\n",
       "      <td>1</td>\n",
       "      <td>0</td>\n",
       "      <td>164463</td>\n",
       "      <td>6.8</td>\n",
       "      <td>3</td>\n",
       "    </tr>\n",
       "    <tr>\n",
       "      <th>1</th>\n",
       "      <td>Aston Pasteur</td>\n",
       "      <td>4</td>\n",
       "      <td>Sukajadi</td>\n",
       "      <td>Bandung</td>\n",
       "      <td>1</td>\n",
       "      <td>0</td>\n",
       "      <td>1</td>\n",
       "      <td>1</td>\n",
       "      <td>1</td>\n",
       "      <td>578000</td>\n",
       "      <td>8.8</td>\n",
       "      <td>4</td>\n",
       "    </tr>\n",
       "    <tr>\n",
       "      <th>2</th>\n",
       "      <td>POP! Hotel Bandung Festival CityLink - Bandung</td>\n",
       "      <td>2</td>\n",
       "      <td>Bojongloa Kaler</td>\n",
       "      <td>Bandung</td>\n",
       "      <td>1</td>\n",
       "      <td>0</td>\n",
       "      <td>0</td>\n",
       "      <td>1</td>\n",
       "      <td>0</td>\n",
       "      <td>349380</td>\n",
       "      <td>8.2</td>\n",
       "      <td>2</td>\n",
       "    </tr>\n",
       "    <tr>\n",
       "      <th>3</th>\n",
       "      <td>Grand Tjokro Bandung</td>\n",
       "      <td>4</td>\n",
       "      <td>Coblong</td>\n",
       "      <td>Bandung</td>\n",
       "      <td>1</td>\n",
       "      <td>1</td>\n",
       "      <td>1</td>\n",
       "      <td>1</td>\n",
       "      <td>1</td>\n",
       "      <td>734786</td>\n",
       "      <td>8.8</td>\n",
       "      <td>5</td>\n",
       "    </tr>\n",
       "    <tr>\n",
       "      <th>4</th>\n",
       "      <td>eL Hotel Royale Bandung</td>\n",
       "      <td>4</td>\n",
       "      <td>Sumur Bandung</td>\n",
       "      <td>Bandung</td>\n",
       "      <td>1</td>\n",
       "      <td>1</td>\n",
       "      <td>1</td>\n",
       "      <td>0</td>\n",
       "      <td>1</td>\n",
       "      <td>479338</td>\n",
       "      <td>8.9</td>\n",
       "      <td>4</td>\n",
       "    </tr>\n",
       "  </tbody>\n",
       "</table>\n",
       "</div>"
      ],
      "text/plain": [
       "                                             nama  bintang           daerah  \\\n",
       "0                          Imperium Hotel Bandung        3          Cicendo   \n",
       "1                                   Aston Pasteur        4         Sukajadi   \n",
       "2  POP! Hotel Bandung Festival CityLink - Bandung        2  Bojongloa Kaler   \n",
       "3                            Grand Tjokro Bandung        4          Coblong   \n",
       "4                         eL Hotel Royale Bandung        4    Sumur Bandung   \n",
       "\n",
       "      kota  wifi  spa  restaurant  kolam_renang  bar   harga  rating  \\\n",
       "0  Bandung     1    0           1             1    0  164463     6.8   \n",
       "1  Bandung     1    0           1             1    1  578000     8.8   \n",
       "2  Bandung     1    0           0             1    0  349380     8.2   \n",
       "3  Bandung     1    1           1             1    1  734786     8.8   \n",
       "4  Bandung     1    1           1             0    1  479338     8.9   \n",
       "\n",
       "   fasilitas  \n",
       "0          3  \n",
       "1          4  \n",
       "2          2  \n",
       "3          5  \n",
       "4          4  "
      ]
     },
     "execution_count": 254,
     "metadata": {},
     "output_type": "execute_result"
    }
   ],
   "source": [
    "hasil.head()"
   ]
  },
  {
   "cell_type": "code",
   "execution_count": 255,
   "metadata": {},
   "outputs": [
    {
     "data": {
      "text/plain": [
       "(923, 12)"
      ]
     },
     "execution_count": 255,
     "metadata": {},
     "output_type": "execute_result"
    }
   ],
   "source": [
    "hasil.shape"
   ]
  },
  {
   "cell_type": "code",
   "execution_count": 256,
   "metadata": {},
   "outputs": [
    {
     "data": {
      "text/plain": [
       "(923, 4)"
      ]
     },
     "execution_count": 256,
     "metadata": {},
     "output_type": "execute_result"
    }
   ],
   "source": [
    "hotel.shape"
   ]
  },
  {
   "cell_type": "markdown",
   "metadata": {},
   "source": [
    "### Masukan Hasil Clustering"
   ]
  },
  {
   "cell_type": "code",
   "execution_count": 276,
   "metadata": {},
   "outputs": [],
   "source": [
    "hasil['cluster'] = y_kmeans"
   ]
  },
  {
   "cell_type": "code",
   "execution_count": 277,
   "metadata": {},
   "outputs": [
    {
     "data": {
      "text/html": [
       "<div>\n",
       "<style scoped>\n",
       "    .dataframe tbody tr th:only-of-type {\n",
       "        vertical-align: middle;\n",
       "    }\n",
       "\n",
       "    .dataframe tbody tr th {\n",
       "        vertical-align: top;\n",
       "    }\n",
       "\n",
       "    .dataframe thead th {\n",
       "        text-align: right;\n",
       "    }\n",
       "</style>\n",
       "<table border=\"1\" class=\"dataframe\">\n",
       "  <thead>\n",
       "    <tr style=\"text-align: right;\">\n",
       "      <th></th>\n",
       "      <th>nama</th>\n",
       "      <th>bintang</th>\n",
       "      <th>daerah</th>\n",
       "      <th>kota</th>\n",
       "      <th>wifi</th>\n",
       "      <th>spa</th>\n",
       "      <th>restaurant</th>\n",
       "      <th>kolam_renang</th>\n",
       "      <th>bar</th>\n",
       "      <th>harga</th>\n",
       "      <th>rating</th>\n",
       "      <th>fasilitas</th>\n",
       "      <th>cluster</th>\n",
       "    </tr>\n",
       "  </thead>\n",
       "  <tbody>\n",
       "    <tr>\n",
       "      <th>0</th>\n",
       "      <td>Imperium Hotel Bandung</td>\n",
       "      <td>3</td>\n",
       "      <td>Cicendo</td>\n",
       "      <td>Bandung</td>\n",
       "      <td>1</td>\n",
       "      <td>0</td>\n",
       "      <td>1</td>\n",
       "      <td>1</td>\n",
       "      <td>0</td>\n",
       "      <td>164463</td>\n",
       "      <td>6.8</td>\n",
       "      <td>3</td>\n",
       "      <td>3</td>\n",
       "    </tr>\n",
       "    <tr>\n",
       "      <th>1</th>\n",
       "      <td>Aston Pasteur</td>\n",
       "      <td>4</td>\n",
       "      <td>Sukajadi</td>\n",
       "      <td>Bandung</td>\n",
       "      <td>1</td>\n",
       "      <td>0</td>\n",
       "      <td>1</td>\n",
       "      <td>1</td>\n",
       "      <td>1</td>\n",
       "      <td>578000</td>\n",
       "      <td>8.8</td>\n",
       "      <td>4</td>\n",
       "      <td>0</td>\n",
       "    </tr>\n",
       "    <tr>\n",
       "      <th>2</th>\n",
       "      <td>POP! Hotel Bandung Festival CityLink - Bandung</td>\n",
       "      <td>2</td>\n",
       "      <td>Bojongloa Kaler</td>\n",
       "      <td>Bandung</td>\n",
       "      <td>1</td>\n",
       "      <td>0</td>\n",
       "      <td>0</td>\n",
       "      <td>1</td>\n",
       "      <td>0</td>\n",
       "      <td>349380</td>\n",
       "      <td>8.2</td>\n",
       "      <td>2</td>\n",
       "      <td>1</td>\n",
       "    </tr>\n",
       "  </tbody>\n",
       "</table>\n",
       "</div>"
      ],
      "text/plain": [
       "                                             nama  bintang           daerah  \\\n",
       "0                          Imperium Hotel Bandung        3          Cicendo   \n",
       "1                                   Aston Pasteur        4         Sukajadi   \n",
       "2  POP! Hotel Bandung Festival CityLink - Bandung        2  Bojongloa Kaler   \n",
       "\n",
       "      kota  wifi  spa  restaurant  kolam_renang  bar   harga  rating  \\\n",
       "0  Bandung     1    0           1             1    0  164463     6.8   \n",
       "1  Bandung     1    0           1             1    1  578000     8.8   \n",
       "2  Bandung     1    0           0             1    0  349380     8.2   \n",
       "\n",
       "   fasilitas  cluster  \n",
       "0          3        3  \n",
       "1          4        0  \n",
       "2          2        1  "
      ]
     },
     "execution_count": 277,
     "metadata": {},
     "output_type": "execute_result"
    }
   ],
   "source": [
    "hasil.head(3)"
   ]
  },
  {
   "cell_type": "code",
   "execution_count": 278,
   "metadata": {},
   "outputs": [
    {
     "data": {
      "text/plain": [
       "array([[4.7       , 3.88461538],\n",
       "       [1.41904762, 2.44126984],\n",
       "       [1.48373984, 0.44308943],\n",
       "       [3.42241379, 2.75862069]])"
      ]
     },
     "execution_count": 278,
     "metadata": {},
     "output_type": "execute_result"
    }
   ],
   "source": [
    "centroids"
   ]
  },
  {
   "cell_type": "code",
   "execution_count": 279,
   "metadata": {},
   "outputs": [],
   "source": [
    "hasil['cluster'] = hasil['cluster'].apply(str)"
   ]
  },
  {
   "cell_type": "code",
   "execution_count": 280,
   "metadata": {},
   "outputs": [
    {
     "data": {
      "text/plain": [
       "nama             object\n",
       "bintang           int64\n",
       "daerah           object\n",
       "kota             object\n",
       "wifi              int64\n",
       "spa               int64\n",
       "restaurant        int64\n",
       "kolam_renang      int64\n",
       "bar               int64\n",
       "harga             int32\n",
       "rating          float64\n",
       "fasilitas         int64\n",
       "cluster          object\n",
       "dtype: object"
      ]
     },
     "execution_count": 280,
     "metadata": {},
     "output_type": "execute_result"
    }
   ],
   "source": [
    "hasil.dtypes"
   ]
  },
  {
   "cell_type": "code",
   "execution_count": 282,
   "metadata": {},
   "outputs": [],
   "source": [
    "hasil['cluster']=hasil.cluster.str.replace('0','satu').astype(str)\n",
    "hasil['cluster']=hasil.cluster.str.replace('1','tiga').astype(str)\n",
    "hasil['cluster']=hasil.cluster.str.replace('2','empat').astype(str)\n",
    "hasil['cluster']=hasil.cluster.str.replace('3','dua').astype(str)\n",
    "\n",
    "hasil['cluster']=hasil.cluster.str.replace('satu','1').astype(str)\n",
    "hasil['cluster']=hasil.cluster.str.replace('tiga','3').astype(str)\n",
    "hasil['cluster']=hasil.cluster.str.replace('empat','4').astype(str)\n",
    "hasil['cluster']=hasil.cluster.str.replace('dua','2').astype(str)"
   ]
  },
  {
   "cell_type": "code",
   "execution_count": 284,
   "metadata": {},
   "outputs": [],
   "source": [
    "hasil['cluster'] = hasil['cluster'].apply(int)"
   ]
  },
  {
   "cell_type": "code",
   "execution_count": 285,
   "metadata": {},
   "outputs": [
    {
     "data": {
      "text/plain": [
       "nama             object\n",
       "bintang           int64\n",
       "daerah           object\n",
       "kota             object\n",
       "wifi              int64\n",
       "spa               int64\n",
       "restaurant        int64\n",
       "kolam_renang      int64\n",
       "bar               int64\n",
       "harga             int32\n",
       "rating          float64\n",
       "fasilitas         int64\n",
       "cluster           int64\n",
       "dtype: object"
      ]
     },
     "execution_count": 285,
     "metadata": {},
     "output_type": "execute_result"
    }
   ],
   "source": [
    "hasil.dtypes"
   ]
  },
  {
   "cell_type": "code",
   "execution_count": 286,
   "metadata": {},
   "outputs": [
    {
     "data": {
      "text/html": [
       "<div>\n",
       "<style scoped>\n",
       "    .dataframe tbody tr th:only-of-type {\n",
       "        vertical-align: middle;\n",
       "    }\n",
       "\n",
       "    .dataframe tbody tr th {\n",
       "        vertical-align: top;\n",
       "    }\n",
       "\n",
       "    .dataframe thead th {\n",
       "        text-align: right;\n",
       "    }\n",
       "</style>\n",
       "<table border=\"1\" class=\"dataframe\">\n",
       "  <thead>\n",
       "    <tr style=\"text-align: right;\">\n",
       "      <th></th>\n",
       "      <th>nama</th>\n",
       "      <th>bintang</th>\n",
       "      <th>daerah</th>\n",
       "      <th>kota</th>\n",
       "      <th>wifi</th>\n",
       "      <th>spa</th>\n",
       "      <th>restaurant</th>\n",
       "      <th>kolam_renang</th>\n",
       "      <th>bar</th>\n",
       "      <th>harga</th>\n",
       "      <th>rating</th>\n",
       "      <th>fasilitas</th>\n",
       "      <th>cluster</th>\n",
       "    </tr>\n",
       "  </thead>\n",
       "  <tbody>\n",
       "    <tr>\n",
       "      <th>0</th>\n",
       "      <td>Imperium Hotel Bandung</td>\n",
       "      <td>3</td>\n",
       "      <td>Cicendo</td>\n",
       "      <td>Bandung</td>\n",
       "      <td>1</td>\n",
       "      <td>0</td>\n",
       "      <td>1</td>\n",
       "      <td>1</td>\n",
       "      <td>0</td>\n",
       "      <td>164463</td>\n",
       "      <td>6.8</td>\n",
       "      <td>3</td>\n",
       "      <td>2</td>\n",
       "    </tr>\n",
       "    <tr>\n",
       "      <th>1</th>\n",
       "      <td>Aston Pasteur</td>\n",
       "      <td>4</td>\n",
       "      <td>Sukajadi</td>\n",
       "      <td>Bandung</td>\n",
       "      <td>1</td>\n",
       "      <td>0</td>\n",
       "      <td>1</td>\n",
       "      <td>1</td>\n",
       "      <td>1</td>\n",
       "      <td>578000</td>\n",
       "      <td>8.8</td>\n",
       "      <td>4</td>\n",
       "      <td>1</td>\n",
       "    </tr>\n",
       "    <tr>\n",
       "      <th>2</th>\n",
       "      <td>POP! Hotel Bandung Festival CityLink - Bandung</td>\n",
       "      <td>2</td>\n",
       "      <td>Bojongloa Kaler</td>\n",
       "      <td>Bandung</td>\n",
       "      <td>1</td>\n",
       "      <td>0</td>\n",
       "      <td>0</td>\n",
       "      <td>1</td>\n",
       "      <td>0</td>\n",
       "      <td>349380</td>\n",
       "      <td>8.2</td>\n",
       "      <td>2</td>\n",
       "      <td>3</td>\n",
       "    </tr>\n",
       "    <tr>\n",
       "      <th>3</th>\n",
       "      <td>Grand Tjokro Bandung</td>\n",
       "      <td>4</td>\n",
       "      <td>Coblong</td>\n",
       "      <td>Bandung</td>\n",
       "      <td>1</td>\n",
       "      <td>1</td>\n",
       "      <td>1</td>\n",
       "      <td>1</td>\n",
       "      <td>1</td>\n",
       "      <td>734786</td>\n",
       "      <td>8.8</td>\n",
       "      <td>5</td>\n",
       "      <td>1</td>\n",
       "    </tr>\n",
       "    <tr>\n",
       "      <th>4</th>\n",
       "      <td>eL Hotel Royale Bandung</td>\n",
       "      <td>4</td>\n",
       "      <td>Sumur Bandung</td>\n",
       "      <td>Bandung</td>\n",
       "      <td>1</td>\n",
       "      <td>1</td>\n",
       "      <td>1</td>\n",
       "      <td>0</td>\n",
       "      <td>1</td>\n",
       "      <td>479338</td>\n",
       "      <td>8.9</td>\n",
       "      <td>4</td>\n",
       "      <td>1</td>\n",
       "    </tr>\n",
       "  </tbody>\n",
       "</table>\n",
       "</div>"
      ],
      "text/plain": [
       "                                             nama  bintang           daerah  \\\n",
       "0                          Imperium Hotel Bandung        3          Cicendo   \n",
       "1                                   Aston Pasteur        4         Sukajadi   \n",
       "2  POP! Hotel Bandung Festival CityLink - Bandung        2  Bojongloa Kaler   \n",
       "3                            Grand Tjokro Bandung        4          Coblong   \n",
       "4                         eL Hotel Royale Bandung        4    Sumur Bandung   \n",
       "\n",
       "      kota  wifi  spa  restaurant  kolam_renang  bar   harga  rating  \\\n",
       "0  Bandung     1    0           1             1    0  164463     6.8   \n",
       "1  Bandung     1    0           1             1    1  578000     8.8   \n",
       "2  Bandung     1    0           0             1    0  349380     8.2   \n",
       "3  Bandung     1    1           1             1    1  734786     8.8   \n",
       "4  Bandung     1    1           1             0    1  479338     8.9   \n",
       "\n",
       "   fasilitas  cluster  \n",
       "0          3        2  \n",
       "1          4        1  \n",
       "2          2        3  \n",
       "3          5        1  \n",
       "4          4        1  "
      ]
     },
     "execution_count": 286,
     "metadata": {},
     "output_type": "execute_result"
    }
   ],
   "source": [
    "hasil.head()"
   ]
  },
  {
   "cell_type": "markdown",
   "metadata": {},
   "source": [
    "# Save Data to .Csv"
   ]
  },
  {
   "cell_type": "code",
   "execution_count": 288,
   "metadata": {},
   "outputs": [],
   "source": [
    "hasil.to_csv('clustering_penginapan_jawabarat.csv', index = False)"
   ]
  },
  {
   "cell_type": "markdown",
   "metadata": {},
   "source": [
    "# Example"
   ]
  },
  {
   "cell_type": "code",
   "execution_count": 2,
   "metadata": {},
   "outputs": [],
   "source": [
    "import pandas as pd\n",
    "data = pd.read_csv('clustering_penginapan_jawabarat.csv')"
   ]
  },
  {
   "cell_type": "code",
   "execution_count": 3,
   "metadata": {},
   "outputs": [
    {
     "data": {
      "text/html": [
       "<div>\n",
       "<style scoped>\n",
       "    .dataframe tbody tr th:only-of-type {\n",
       "        vertical-align: middle;\n",
       "    }\n",
       "\n",
       "    .dataframe tbody tr th {\n",
       "        vertical-align: top;\n",
       "    }\n",
       "\n",
       "    .dataframe thead th {\n",
       "        text-align: right;\n",
       "    }\n",
       "</style>\n",
       "<table border=\"1\" class=\"dataframe\">\n",
       "  <thead>\n",
       "    <tr style=\"text-align: right;\">\n",
       "      <th></th>\n",
       "      <th>nama</th>\n",
       "      <th>bintang</th>\n",
       "      <th>daerah</th>\n",
       "      <th>kota</th>\n",
       "      <th>wifi</th>\n",
       "      <th>spa</th>\n",
       "      <th>restaurant</th>\n",
       "      <th>kolam_renang</th>\n",
       "      <th>bar</th>\n",
       "      <th>harga</th>\n",
       "      <th>rating</th>\n",
       "      <th>fasilitas</th>\n",
       "      <th>cluster</th>\n",
       "    </tr>\n",
       "  </thead>\n",
       "  <tbody>\n",
       "    <tr>\n",
       "      <th>0</th>\n",
       "      <td>Imperium Hotel Bandung</td>\n",
       "      <td>3</td>\n",
       "      <td>Cicendo</td>\n",
       "      <td>Bandung</td>\n",
       "      <td>1</td>\n",
       "      <td>0</td>\n",
       "      <td>1</td>\n",
       "      <td>1</td>\n",
       "      <td>0</td>\n",
       "      <td>164463</td>\n",
       "      <td>6.8</td>\n",
       "      <td>3</td>\n",
       "      <td>2</td>\n",
       "    </tr>\n",
       "    <tr>\n",
       "      <th>1</th>\n",
       "      <td>Aston Pasteur</td>\n",
       "      <td>4</td>\n",
       "      <td>Sukajadi</td>\n",
       "      <td>Bandung</td>\n",
       "      <td>1</td>\n",
       "      <td>0</td>\n",
       "      <td>1</td>\n",
       "      <td>1</td>\n",
       "      <td>1</td>\n",
       "      <td>578000</td>\n",
       "      <td>8.8</td>\n",
       "      <td>4</td>\n",
       "      <td>1</td>\n",
       "    </tr>\n",
       "    <tr>\n",
       "      <th>2</th>\n",
       "      <td>POP! Hotel Bandung Festival CityLink - Bandung</td>\n",
       "      <td>2</td>\n",
       "      <td>Bojongloa Kaler</td>\n",
       "      <td>Bandung</td>\n",
       "      <td>1</td>\n",
       "      <td>0</td>\n",
       "      <td>0</td>\n",
       "      <td>1</td>\n",
       "      <td>0</td>\n",
       "      <td>349380</td>\n",
       "      <td>8.2</td>\n",
       "      <td>2</td>\n",
       "      <td>3</td>\n",
       "    </tr>\n",
       "    <tr>\n",
       "      <th>3</th>\n",
       "      <td>Grand Tjokro Bandung</td>\n",
       "      <td>4</td>\n",
       "      <td>Coblong</td>\n",
       "      <td>Bandung</td>\n",
       "      <td>1</td>\n",
       "      <td>1</td>\n",
       "      <td>1</td>\n",
       "      <td>1</td>\n",
       "      <td>1</td>\n",
       "      <td>734786</td>\n",
       "      <td>8.8</td>\n",
       "      <td>5</td>\n",
       "      <td>1</td>\n",
       "    </tr>\n",
       "    <tr>\n",
       "      <th>4</th>\n",
       "      <td>eL Hotel Royale Bandung</td>\n",
       "      <td>4</td>\n",
       "      <td>Sumur Bandung</td>\n",
       "      <td>Bandung</td>\n",
       "      <td>1</td>\n",
       "      <td>1</td>\n",
       "      <td>1</td>\n",
       "      <td>0</td>\n",
       "      <td>1</td>\n",
       "      <td>479338</td>\n",
       "      <td>8.9</td>\n",
       "      <td>4</td>\n",
       "      <td>1</td>\n",
       "    </tr>\n",
       "  </tbody>\n",
       "</table>\n",
       "</div>"
      ],
      "text/plain": [
       "                                             nama  bintang           daerah  \\\n",
       "0                          Imperium Hotel Bandung        3          Cicendo   \n",
       "1                                   Aston Pasteur        4         Sukajadi   \n",
       "2  POP! Hotel Bandung Festival CityLink - Bandung        2  Bojongloa Kaler   \n",
       "3                            Grand Tjokro Bandung        4          Coblong   \n",
       "4                         eL Hotel Royale Bandung        4    Sumur Bandung   \n",
       "\n",
       "      kota  wifi  spa  restaurant  kolam_renang  bar   harga  rating  \\\n",
       "0  Bandung     1    0           1             1    0  164463     6.8   \n",
       "1  Bandung     1    0           1             1    1  578000     8.8   \n",
       "2  Bandung     1    0           0             1    0  349380     8.2   \n",
       "3  Bandung     1    1           1             1    1  734786     8.8   \n",
       "4  Bandung     1    1           1             0    1  479338     8.9   \n",
       "\n",
       "   fasilitas  cluster  \n",
       "0          3        2  \n",
       "1          4        1  \n",
       "2          2        3  \n",
       "3          5        1  \n",
       "4          4        1  "
      ]
     },
     "execution_count": 3,
     "metadata": {},
     "output_type": "execute_result"
    }
   ],
   "source": [
    "data.head()"
   ]
  },
  {
   "cell_type": "code",
   "execution_count": 7,
   "metadata": {},
   "outputs": [
    {
     "data": {
      "text/html": [
       "<div>\n",
       "<style scoped>\n",
       "    .dataframe tbody tr th:only-of-type {\n",
       "        vertical-align: middle;\n",
       "    }\n",
       "\n",
       "    .dataframe tbody tr th {\n",
       "        vertical-align: top;\n",
       "    }\n",
       "\n",
       "    .dataframe thead th {\n",
       "        text-align: right;\n",
       "    }\n",
       "</style>\n",
       "<table border=\"1\" class=\"dataframe\">\n",
       "  <thead>\n",
       "    <tr style=\"text-align: right;\">\n",
       "      <th></th>\n",
       "      <th>nama</th>\n",
       "      <th>bintang</th>\n",
       "      <th>daerah</th>\n",
       "      <th>kota</th>\n",
       "      <th>wifi</th>\n",
       "      <th>spa</th>\n",
       "      <th>restaurant</th>\n",
       "      <th>kolam_renang</th>\n",
       "      <th>bar</th>\n",
       "      <th>harga</th>\n",
       "      <th>rating</th>\n",
       "      <th>fasilitas</th>\n",
       "      <th>cluster</th>\n",
       "    </tr>\n",
       "  </thead>\n",
       "  <tbody>\n",
       "    <tr>\n",
       "      <th>637</th>\n",
       "      <td>The Luxton Cirebon Hotel And Convention</td>\n",
       "      <td>4</td>\n",
       "      <td>Kejaksan</td>\n",
       "      <td>Cirebon</td>\n",
       "      <td>1</td>\n",
       "      <td>1</td>\n",
       "      <td>1</td>\n",
       "      <td>1</td>\n",
       "      <td>1</td>\n",
       "      <td>1818181</td>\n",
       "      <td>9.3</td>\n",
       "      <td>5</td>\n",
       "      <td>1</td>\n",
       "    </tr>\n",
       "    <tr>\n",
       "      <th>512</th>\n",
       "      <td>Pesona Alam Resort &amp; Spa</td>\n",
       "      <td>4</td>\n",
       "      <td>Cisarua</td>\n",
       "      <td>Bogor</td>\n",
       "      <td>1</td>\n",
       "      <td>1</td>\n",
       "      <td>1</td>\n",
       "      <td>1</td>\n",
       "      <td>1</td>\n",
       "      <td>1776859</td>\n",
       "      <td>9.1</td>\n",
       "      <td>5</td>\n",
       "      <td>1</td>\n",
       "    </tr>\n",
       "    <tr>\n",
       "      <th>189</th>\n",
       "      <td>Karang Setra Hotel &amp; Cottages</td>\n",
       "      <td>3</td>\n",
       "      <td>Sukajadi</td>\n",
       "      <td>Bandung</td>\n",
       "      <td>1</td>\n",
       "      <td>1</td>\n",
       "      <td>1</td>\n",
       "      <td>1</td>\n",
       "      <td>1</td>\n",
       "      <td>1652893</td>\n",
       "      <td>8.4</td>\n",
       "      <td>5</td>\n",
       "      <td>1</td>\n",
       "    </tr>\n",
       "  </tbody>\n",
       "</table>\n",
       "</div>"
      ],
      "text/plain": [
       "                                        nama  bintang    daerah     kota  \\\n",
       "637  The Luxton Cirebon Hotel And Convention        4  Kejaksan  Cirebon   \n",
       "512                 Pesona Alam Resort & Spa        4   Cisarua    Bogor   \n",
       "189            Karang Setra Hotel & Cottages        3  Sukajadi  Bandung   \n",
       "\n",
       "     wifi  spa  restaurant  kolam_renang  bar    harga  rating  fasilitas  \\\n",
       "637     1    1           1             1    1  1818181     9.3          5   \n",
       "512     1    1           1             1    1  1776859     9.1          5   \n",
       "189     1    1           1             1    1  1652893     8.4          5   \n",
       "\n",
       "     cluster  \n",
       "637        1  \n",
       "512        1  \n",
       "189        1  "
      ]
     },
     "execution_count": 7,
     "metadata": {},
     "output_type": "execute_result"
    }
   ],
   "source": [
    "data[data.cluster == 1].sort_values('harga', ascending=False).head(3)"
   ]
  },
  {
   "cell_type": "code",
   "execution_count": null,
   "metadata": {},
   "outputs": [],
   "source": []
  }
 ],
 "metadata": {
  "kernelspec": {
   "display_name": "Python 3",
   "language": "python",
   "name": "python3"
  },
  "language_info": {
   "codemirror_mode": {
    "name": "ipython",
    "version": 3
   },
   "file_extension": ".py",
   "mimetype": "text/x-python",
   "name": "python",
   "nbconvert_exporter": "python",
   "pygments_lexer": "ipython3",
   "version": "3.7.1"
  }
 },
 "nbformat": 4,
 "nbformat_minor": 2
}
